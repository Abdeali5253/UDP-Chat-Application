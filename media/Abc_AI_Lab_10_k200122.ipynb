{
  "nbformat": 4,
  "nbformat_minor": 0,
  "metadata": {
    "colab": {
      "provenance": []
    },
    "kernelspec": {
      "name": "python3",
      "display_name": "Python 3"
    },
    "language_info": {
      "name": "python"
    }
  },
  "cells": [
    {
      "cell_type": "code",
      "source": [
        "import pandas as pd\n",
        "import numpy as np\n",
        "import statsmodels.api as sm\n",
        "from sklearn.model_selection import train_test_split\n",
        "from sklearn.neighbors import KNeighborsClassifier\n",
        "from sklearn.tree import DecisionTreeClassifier\n",
        "from sklearn.metrics import accuracy_score\n",
        "from sklearn.metrics import confusion_matrix\n",
        "import seaborn as sns\n",
        "import matplotlib.pyplot as plt"
      ],
      "metadata": {
        "id": "9vCYK27p-8HA"
      },
      "execution_count": 7,
      "outputs": []
    },
    {
      "cell_type": "markdown",
      "source": [
        "#Task 1"
      ],
      "metadata": {
        "id": "_lAnGJnM7neV"
      }
    },
    {
      "cell_type": "code",
      "execution_count": 3,
      "metadata": {
        "id": "-bQH8qVL7gvy"
      },
      "outputs": [],
      "source": [
        "df = pd.read_csv('advertising.csv')\n",
        "X = df['TV']\n",
        "y = df['Sales']\n",
        "\n",
        "X_train, X_test, y_train, y_test = train_test_split(X, y, test_size=0.3, random_state=0)\n",
        "X_train = sm.add_constant(X_train)\n",
        "X_test = sm.add_constant(X_test)\n",
        "\n",
        "model = sm.OLS(y_train, X_train).fit()\n",
        "print(model.summary())\n"
      ]
    },
    {
      "cell_type": "markdown",
      "source": [
        "#Task 2"
      ],
      "metadata": {
        "id": "yUo__wNn7qyq"
      }
    },
    {
      "cell_type": "code",
      "source": [
        "iris_df = pd.read_csv('iris.csv')\n",
        "\n",
        "X = iris_df.drop('species', axis=1)\n",
        "y = iris_df['species']\n",
        "\n",
        "X_train, X_test, y_train, y_test = train_test_split(X, y, test_size=0.3, random_state=42)\n",
        "\n",
        "knn = KNeighborsClassifier(n_neighbors=5)\n",
        "knn.fit(X_train, y_train)\n",
        "\n",
        "knn.predict([[3,4,5,2]])\n",
        "knn.predict([[5,4,2,2]])\n",
        "knn.predict([[7,1,2,4]])\n",
        "knn.predict([[2,4,8,1]])\n",
        "\n"
      ],
      "metadata": {
        "id": "T6XHrBQb7sLt"
      },
      "execution_count": null,
      "outputs": []
    },
    {
      "cell_type": "markdown",
      "source": [
        "#Task 3"
      ],
      "metadata": {
        "id": "yFSwwn2F7sdc"
      }
    },
    {
      "cell_type": "code",
      "source": [
        "\n",
        "diabetes_df = pd.read_csv('/content/data.csv')\n",
        "\n",
        "X = diabetes_df.drop('Outcome', axis=2)\n",
        "y = diabetes_df['Outcome']\n",
        "\n",
        "X_train, X_test, y_train, y_test = train_test_split(X, y, test_size=0.3, random_state=42)\n",
        "\n",
        "dtc = DecisionTreeClassifier()\n",
        "dtc.fit(X_train, y_train)\n",
        "  \n",
        "y_pred = dtc.predict(X_test)\n",
        "accuracy = accuracy_score(y_test, y_pred)\n",
        "print('Accuracy:', accuracy)\n",
        "\n",
        "cm = confusion_matrix(y_test, y_pred)\n",
        "sns.heatmap(cm, annot=True, cmap='Blues')\n",
        "plt.show()"
      ],
      "metadata": {
        "id": "bB-o5Q2_7s0E"
      },
      "execution_count": 11,
      "outputs": []
    }
  ]
}